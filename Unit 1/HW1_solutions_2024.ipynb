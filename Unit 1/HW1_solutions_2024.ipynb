{
 "cells": [
  {
   "cell_type": "markdown",
   "metadata": {},
   "source": [
    "# Homework 1 Solutions\n",
    "Modules that we'll use for our solutions."
   ]
  },
  {
   "cell_type": "code",
   "execution_count": 55,
   "metadata": {},
   "outputs": [],
   "source": [
    "# Import packages\n",
    "import numpy as np\n",
    "import pandas as pd\n",
    "import matplotlib.pyplot as plt\n",
    "\n",
    "# Use LaTex\n",
    "plt.rcParams['text.usetex'] = True\n",
    "\n",
    "# Use Seaborn style\n",
    "plt.style.use('seaborn')"
   ]
  },
  {
   "cell_type": "markdown",
   "metadata": {},
   "source": [
    "## Question 1\n",
    "(a) Write a function that implements the gradient descent algorithm in Python. Set respective default arguments for $h$, $\\eta$, $\\alpha$, $\\beta$, and $N$ of $10^{-2}$, $10^{-3}$, $10^{-6}$, $10^6$, and $100000$."
   ]
  },
  {
   "cell_type": "code",
   "execution_count": 56,
   "metadata": {},
   "outputs": [],
   "source": [
    "# Part (a)\n",
    "def gradient_descent(f, x0, h=1e-2, eta=1e-3, alpha=1e-6, beta=1e6, N=100000):\n",
    "    \n",
    "    # Calculate numerical derivative\n",
    "    g = lambda x: (f(x + h) - f(x - h))/(2 * h)\n",
    "    \n",
    "    # Terminate process after N iterations\n",
    "    for _ in range(int(N)):\n",
    "        \n",
    "        # Update x\n",
    "        x = x0 - eta * g(x0)  \n",
    "        \n",
    "        # Calculate whether close enough to return answer\n",
    "        if np.abs(x - x0) < alpha:          \n",
    "            return x \n",
    "        \n",
    "        # Calculate whehter so far apart better to terminate\n",
    "        elif np.abs(x - x0) > beta:\n",
    "            return np.nan\n",
    "        \n",
    "        # If neither of those update x0 and continue\n",
    "        else:        \n",
    "            x0 = x\n",
    "    \n",
    "    # Return np.nan if fails to converge after N iterations\n",
    "    return np.nan\n"
   ]
  },
  {
   "cell_type": "markdown",
   "metadata": {},
   "source": [
    "Define $f$ and picks some $x$-values for parts (b) and (c). We'll also define a new function to find local minima."
   ]
  },
  {
   "cell_type": "code",
   "execution_count": 57,
   "metadata": {},
   "outputs": [],
   "source": [
    "# Define function\n",
    "f = lambda x: 3*x**4 - 16 * x**3 + 6 * x**2 + 72 * x + 5\n",
    "\n",
    "# Define x-values to use for guesses\n",
    "x_guesses = np.linspace(-10, 10, 20)\n",
    "\n",
    "# Define function to get local minima\n",
    "def find_local_min_x_vals(f, x_guesses):\n",
    "    \n",
    "    # Calculate f'\n",
    "    f_prime = lambda x: (f(x + 1e-3) - f(x - 1e-3))/2e-3\n",
    "    \n",
    "    # Make sure x guesses don't make f'equal 0\n",
    "    x_guesses_mod = [x0 for x0 in x_guesses if not np.isclose(f_prime(x0), 0.0)]\n",
    "    \n",
    "    # Initialize array to hold x-values of local minima\n",
    "    min_x_vals = np.zeros(len(x_guesses_mod))\n",
    "\n",
    "    # Loop over guesses\n",
    "    for i, x0 in enumerate(x_guesses_mod):\n",
    "    \n",
    "        # Record results\n",
    "        min_x_vals[i] = gradient_descent(f, x0)\n",
    "\n",
    "    # Remove nan values\n",
    "    min_x_vals = min_x_vals[min_x_vals == min_x_vals]\n",
    "\n",
    "    # Not quite numerically stable so round\n",
    "    min_x_vals = np.round(min_x_vals, 3)\n",
    "\n",
    "    # Convert to unique solutions\n",
    "    min_x_vals = np.unique(min_x_vals)\n",
    "    \n",
    "    return min_x_vals\n",
    "        "
   ]
  },
  {
   "cell_type": "markdown",
   "metadata": {},
   "source": [
    "(b) Pick a few values of $x_0$ and use your function from (a) to find the local minima of $f$."
   ]
  },
  {
   "cell_type": "code",
   "execution_count": 58,
   "metadata": {},
   "outputs": [
    {
     "name": "stdout",
     "output_type": "stream",
     "text": [
      "Local minima of f:\n",
      "(x, y) = (-1.0, -42.0)\n",
      "(x, y) = (3.0, 86.0)\n"
     ]
    }
   ],
   "source": [
    "# Get x-values of local minima\n",
    "min_x_vals = find_local_min_x_vals(f, x_guesses)\n",
    "\n",
    "# Calculate corresponding y-values\n",
    "min_y_vals = f(min_x_vals)\n",
    "\n",
    "# Print results\n",
    "print(r'Local minima of f:')\n",
    "\n",
    "for x, y in zip(min_x_vals, min_y_vals):\n",
    "    \n",
    "    print(f'(x, y) = ({x}, {y})')\n",
    "    "
   ]
  },
  {
   "cell_type": "markdown",
   "metadata": {},
   "source": [
    "(c) Repeat (b) with $-f$ instead of $f$ to find the local maxima of $f$."
   ]
  },
  {
   "cell_type": "code",
   "execution_count": 59,
   "metadata": {},
   "outputs": [
    {
     "name": "stdout",
     "output_type": "stream",
     "text": [
      "Local maxima of f:\n",
      "(x, y) = (2.0, 93.0)\n"
     ]
    }
   ],
   "source": [
    "# Minimizing -f is the same as maximizing f\n",
    "neg_f = lambda x: -f(x)\n",
    "\n",
    "# Get x-values of local minima\n",
    "max_x_vals = find_local_min_x_vals(neg_f, x_guesses)\n",
    "\n",
    "# Calculate corresponding y-values\n",
    "max_y_vals = f(max_x_vals)\n",
    "\n",
    "# Print results\n",
    "print(r'Local maxima of f:')\n",
    "\n",
    "for x, y in zip(max_x_vals, max_y_vals):\n",
    "    \n",
    "    print(f'(x, y) = ({x}, {y})')\n"
   ]
  },
  {
   "cell_type": "markdown",
   "metadata": {},
   "source": [
    "(d) Verify your work by using $\\texttt{plot}$ and $\\texttt{scatter}$ in $\\texttt{matplotlib.pyplot}$ to plot $f$ and your local extrema, respectively."
   ]
  },
  {
   "cell_type": "code",
   "execution_count": 60,
   "metadata": {},
   "outputs": [
    {
     "data": {
      "image/png": "[encoded data removed]",
      "text/plain": [
       "<Figure size 720x432 with 1 Axes>"
      ]
     },
     "metadata": {},
     "output_type": "display_data"
    }
   ],
   "source": [
    "# Get x-values for plot\n",
    "x_vals = np.linspace(-3, 5, 100)\n",
    "\n",
    "# Calculate y-values for plot\n",
    "y_vals = f(x_vals)\n",
    "\n",
    "# Make figure bigger\n",
    "plt.figure(figsize = (10, 6))\n",
    "\n",
    "# Plot function\n",
    "plt.plot(x_vals, y_vals, label = r'$y = f(x$)')\n",
    "\n",
    "# Draw scatter plot for local minima\n",
    "plt.scatter(min_x_vals, min_y_vals, label = 'Local Minima', \n",
    "            color = 'red')\n",
    "\n",
    "# Draw scatter plot for local maxima\n",
    "plt.scatter(max_x_vals, max_y_vals, label = 'Local Maxima', \n",
    "            color = 'green')\n",
    "\n",
    "# Add title\n",
    "plt.title(r'Function and Local Extrema', fontsize = 15)\n",
    "\n",
    "# Add x-label\n",
    "plt.xlabel(r'$x$')\n",
    "\n",
    "# Add y-label\n",
    "plt.ylabel(r'$y$')\n",
    "\n",
    "# Add legend\n",
    "plt.legend()\n",
    "\n",
    "plt.show()"
   ]
  },
  {
   "cell_type": "markdown",
   "metadata": {},
   "source": [
    "## Question 2\n",
    "We want to estimate the area under the curve $y = e^{-\\sqrt{x}}$ from $x = 1$ to $x = 100$. Let's define our Riemann integral here. Also, we'll define a function that produces $P$."
   ]
  },
  {
   "cell_type": "code",
   "execution_count": 48,
   "metadata": {},
   "outputs": [],
   "source": [
    "# Define Riemann sum\n",
    "def riemann_sum(f, P, pts):\n",
    "    \n",
    "    # Sort values\n",
    "    P = np.sort(P)\n",
    "\n",
    "    # Calculate Delta x\n",
    "    dx_vals = np.diff(P) \n",
    "\n",
    "    # Define T\n",
    "    if pts == 'left':\n",
    "\n",
    "        T = P[:-1]\n",
    "\n",
    "    elif pts == 'right':\n",
    "\n",
    "        T = P[1:]\n",
    "\n",
    "    elif pts == 'mid':\n",
    "        \n",
    "        T = (P[:-1] + P[1:])/2\n",
    "        \n",
    "    else:\n",
    "        \n",
    "        raise Exception('Currently only left, right, and midpoints are supported!')\n",
    "        \n",
    "    # Get area of rectangles; assumes f is vectorized\n",
    "    rectangle_areas = f(T) * dx_vals\n",
    "    \n",
    "    # Return sum\n",
    "    return np.sum(rectangle_areas)\n",
    "\n",
    "\n",
    "# Function to get P\n",
    "def get_P(a, b, n, method = 'uniform'):\n",
    "    \n",
    "    if method == 'uniform':\n",
    "        \n",
    "        return np.linspace(a, b, n + 1)\n",
    "        \n",
    "    elif method == 'log':\n",
    "        \n",
    "        return np.logspace(np.log10(a), np.log10(b), n + 1)\n",
    "    \n",
    "    else:\n",
    "        \n",
    "        raise Exception('There is no implementation for this method!')\n",
    "        \n",
    "\n",
    "# Define integrand\n",
    "g = lambda x: np.exp(-np.sqrt(x))\n"
   ]
  },
  {
   "cell_type": "markdown",
   "metadata": {},
   "source": [
    "(a) Approximate the area using a Riemann sum with\n",
    "$$\n",
    "P = \\left(1, 1 + \\frac{99}{n} , 1 + \\frac{99\\cdot 2}{n},\\ldots, 1 + \\frac{99\\cdot (n - 1)}{n}, 100\\right).\n",
    "$$ \n",
    "Find the height of each rectangle using the left, middle, and right points of each subinterval determined by consecutive entries of $P$. Calculate the results for $n = 10,\\; 25,\\; 50,\\; 75,$ and $100$ rectangles. Save your results in a $\\texttt{pandas}$ data frame.\n",
    "\n",
    "(b) In part (a), the Riemann sum was calculated using a uniform partition, which is not the most efficient way to approximate the area. This is because $e^{-\\sqrt{x}} \\approx 0$ for $ x\\gg 0$. The approximation will be better if we sample more small values of $x$ and fewer large values. With this reasoning in mind repeat (a) but with\n",
    "$$\n",
    "P = \\left(1, 100^{1/n}, 100^{2/n},\\ldots, 100^{(n - 1)/n}, 100\\right).\n",
    "$$ "
   ]
  },
  {
   "cell_type": "code",
   "execution_count": 49,
   "metadata": {},
   "outputs": [
    {
     "name": "stdout",
     "output_type": "stream",
     "text": [
      "Uniform partition:\n",
      "\n",
      "         left       mid     right\n",
      "10   4.182437  1.159157   0.54088\n",
      "25   2.395829  1.384797  0.939206\n",
      "50   1.890313  1.444197  1.162002\n",
      "75   1.738941  1.458065    1.2534\n",
      "100  1.667255  1.463321  1.303099\n",
      "\n",
      "\n",
      "Log partition:\n",
      "\n",
      "         left       mid     right\n",
      "10   1.969399  1.437359  1.108519\n",
      "25    1.65079  1.465123  1.311941\n",
      "50   1.557744  1.469167   1.38871\n",
      "75   1.528043  1.469918  1.415401\n",
      "100   1.51343  1.470181  1.428961\n"
     ]
    }
   ],
   "source": [
    "# Parts (a) and (b)\n",
    "\n",
    "# Define n-values\n",
    "n_vals = [10, 25, 50, 75, 100]\n",
    "\n",
    "# Initialize data frames to hold results\n",
    "uni_df = pd.DataFrame(index = n_vals, columns = ['left', 'mid', 'right'])\n",
    "log_df = pd.DataFrame(index = n_vals, columns = ['left', 'mid', 'right'])\n",
    "\n",
    "# Loop over n-values\n",
    "for n in n_vals:\n",
    "    \n",
    "    # Generate the P's\n",
    "    P_uni = get_P(1, 100, n, 'uniform')\n",
    "    P_log = get_P(1, 100, n, 'log')\n",
    "    \n",
    "    for pts in ['left', 'mid', 'right']:\n",
    "        \n",
    "        uni_df.loc[n, pts] = riemann_sum(g, P_uni, pts)\n",
    "        log_df.loc[n, pts] = riemann_sum(g, P_log, pts)     \n",
    " \n",
    "# Let's see the results\n",
    "print('Uniform partition:\\n')\n",
    "print(uni_df)\n",
    "print('\\n')\n",
    "print('Log partition:\\n')\n",
    "print(log_df)\n"
   ]
  },
  {
   "cell_type": "markdown",
   "metadata": {},
   "source": [
    "(c) Use analytic techniques to find the exact area\n",
    "$$\n",
    "\\int_1^{100} e^{-\\sqrt{x}}\\ dx.\n",
    "$$\n",
    "\n",
    "**Solution**  We will do a $u$-substitution and then integration by parts.\n",
    "\\begin{align*}\n",
    "    \\int_1^{100} e^{-\\sqrt{x}}\\ dx &= 2\\int_1^{10} u e^{-u}\\ du\\\\\n",
    "                                   &= -2ue^{-u}\\Big|_1^{10} + 2\\int_1^{10} e^{-u}\\ du\\\\\n",
    "                                   &= -2ue^{-u}\\Big|_1^{10} - 2 e^{-u}\\Big|_1^{10}\\\\\n",
    "                                   &= 4e^{-1} -22 e^{-10}\\\\\n",
    "                                   &\\approx 1.4705\n",
    "\\end{align*}\n"
   ]
  },
  {
   "cell_type": "markdown",
   "metadata": {},
   "source": [
    "(d) Using $\\texttt{matplotlib.pyplot}$, graph your results from parts (a) and (b) via the function $\\texttt{scatter}$. Use $\\texttt{subplots}$ to create three subplots, one for left endpoints, midpoints, and right endpoints.  In each subplot, draw a dashed horizontal red line using $\\texttt{axhline}$ to denote your result from part (c). Make sure to add labels and legends so that it is easy to identify all of your subplots' features."
   ]
  },
  {
   "cell_type": "code",
   "execution_count": 50,
   "metadata": {},
   "outputs": [
    {
     "data": {
      "image/png": "[encoded data removed]",
      "text/plain": [
       "<Figure size 1080x720 with 3 Axes>"
      ]
     },
     "metadata": {},
     "output_type": "display_data"
    }
   ],
   "source": [
    "# Define variable to hold result from (c)\n",
    "I = 4 * np.exp(-1) - 22 * np.exp(-10)\n",
    "\n",
    "# Initialize subplot\n",
    "fig, ax = plt.subplots(3, 1, figsize = (15, 10))\n",
    "\n",
    "# Loop over what point in the subintervals we're using for the height\n",
    "for i, pts in enumerate(['left', 'mid', 'right']):\n",
    "    \n",
    "    # Plot the uniform partition result\n",
    "    ax[i].scatter(n_vals, uni_df[pts], label = r'Uniform')\n",
    "    \n",
    "    # Plot the log-uniform partition result\n",
    "    ax[i].scatter(n_vals, log_df[pts], label = r'Log')\n",
    "    \n",
    "    # Plot the true result\n",
    "    ax[i].axhline(I, xmin = 0, xmax = n_vals[-1], color = 'red', \n",
    "                  linestyle = 'dashed', \n",
    "                  label = r'$\\int_1^{100} e^{-\\sqrt{x}}\\ dx$')\n",
    "    \n",
    "    # Add labels\n",
    "    ax[i].set_xlabel(r'$n$')\n",
    "    ax[i].set_ylabel(f'{pts.title()} Riemann Sum')\n",
    "    \n",
    "    # Add legend\n",
    "    ax[i].legend(loc = 'right', fontsize = 15)\n",
    " \n",
    "# Add title to plot\n",
    "plt.suptitle(r'Riemann Sums and True Value', fontsize = 20)\n",
    "\n",
    "plt.show()"
   ]
  },
  {
   "cell_type": "markdown",
   "metadata": {},
   "source": [
    "## Question 3\n",
    "You have graduated from the MFE program and landed yourself a nice job pricing annuities! For each of the following perpetuities (i.e. annuities with never ending payments) find the price, or prove that the result would not converge. Assume one payment is made at the end of each year and a constant annual discount rate of 7\\%. Let us say that it is January 1, 2024 for simplicity."
   ]
  },
  {
   "cell_type": "markdown",
   "metadata": {},
   "source": [
    "(a) Payments of $10.\n",
    "\n",
    "**Solution** The NPV is\n",
    "$$\n",
    "\\frac{10}{1.07} + \\frac{10}{1.07^2} + \\ldots = \\sum_{k = 1}^\\infty \\frac{10}{1.07^k}.\n",
    "$$\n",
    "Using the Geometric series formula\n",
    "\n",
    "$\n",
    "\\begin{align*}\n",
    "\\sum_{k = 1}^\\infty \\frac{10}{1.07^k} \n",
    "&= \\sum_{k = 1}^\\infty \\frac{10}{1.07}\\left(\\frac{1}{1.07}\\right)^{k - 1}\\\\\n",
    "&= \\frac{10}{1.07}\\frac{1}{1 - \\frac{1}{1.07}}\\\\\n",
    "&= \\frac{10}{0.07}\\\\\n",
    "&\\approx 142.86.\n",
    "\\end{align*}\n",
    "$\n",
    "\n",
    "Hence, the perpetuity is worth about \\$142.86.\n",
    "\n",
    "(b) Payments of the numerical value of the year, e.g. the perpetuity would pay \\$2024 this year.\n",
    "\n",
    "**Solution1** We know that\n",
    "$$\n",
    "\\frac{1}{1 - x} = \\sum_{k = 0}^\\infty x^k.\n",
    "$$\n",
    "Taking the derivative\n",
    "$$\n",
    "\\frac{1}{(1 - x)^2} = \\sum_{k = 1}^\\infty k x^{k - 1}.\n",
    "$$\n",
    "Hence,\n",
    "$$\n",
    "\\frac{x}{(1 - x)^2} = \\sum_{k = 1}^\\infty k x^{k}.\n",
    "$$\n",
    "Let us call the value of the perpetuity $P$. Then\n",
    "\n",
    "$\n",
    "\\begin{align*}\n",
    "P &= \\frac{2024}{1.07} + \\frac{2025}{1.07^2} + \\ldots\\\\\n",
    "   &= \\sum_{k = 1}^\\infty \\frac{2023 + k}{1.07^k}\\\\ \n",
    "   &= \\sum_{k = 1}^\\infty \\frac{2023}{1.07}\\left(\\frac{1}{1.07}\\right)^{k - 1} + \\sum_{k = 1}^\\infty k\\left(\\frac{1}{1.07}\\right)^k\\\\\n",
    "   &= \\frac{2023}{1.07}\\frac{1}{1 - \\frac{1}{1.07}} + \\frac{\\frac{1}{1.07}}{\\left(1 - \\frac{1}{1.07}\\right)^2}\\\\\n",
    "   &= \\frac{2023}{0.07} + \\frac{1.07}{0.07^2}\\\\\n",
    "   &\\approx 29118.37.\n",
    "\\end{align*}\n",
    "$\n",
    "\n",
    "So, this perpetuity is worth about \\$29,118.37.\n",
    "\n",
    "**Solution2** Let\n",
    "$$\n",
    "P = \\frac{2024}{1.07} + \\frac{2025}{1.07^2} + \\ldots.\n",
    "$$\n",
    "Then we have\n",
    "$$\n",
    "1.07 P = 2024 + \\frac{2025}{1.07} + \\frac{2026}{1.07^2} + \\ldots.\n",
    "$$\n",
    "It follows that $1.07P - P$ is\n",
    "$$\n",
    "\\begin{align*}\n",
    "    0.07P &= 2024 + \\frac{1}{1.07} + \\frac{1}{1.07^2} + \\ldots\\\\\n",
    "          &= 2024 + \\frac{\\frac{1}{1.07}}{1 - \\frac{1}{1.07}}\\\\\n",
    "          &= 2024 + \\frac{1}{0.07}.\n",
    "\\end{align*}\n",
    "$$\n",
    "Dividing both sides by 0.07 yields\n",
    "$$\n",
    "P = \\frac{2024}{0.07} + \\frac{1}{0.07^2} \\approx 29118.37.\n",
    "$$\n",
    "Therefore, this perpetuity is worth about \\$29,118.37, which is the same result as before.\n",
    "\n",
    "(c) A payment of $\\$1$ this year, an increase of 10\\% per year for the next four years, and an increase of 5\\% per year after that. That is, a payment sequence of\n",
    "$$\n",
    "\\$1, \\$1.10, \\$1.10^2, \\$1.10^3, \\$1.10^4, \\$1.10^4\\times 1.05, \\$1.10^4\\times 1.05^2,\\ldots.\n",
    "$$\n",
    "\n",
    "**Solution** The idea is to break this up into a finite geometric series and an infinite geometric series. Say the value of the perpetuity is $P$. Then\n",
    "\n",
    "$\n",
    "\\begin{align*}\n",
    "P &= \\frac{1}{1.07} + \\frac{1.10}{1.07^2} + \\ldots + \\frac{1.10^4}{1.07^5} + \\frac{1.10^4 \\cdot 1.05}{1.07^6} + \\frac{1.10^4 \\cdot 1.05^2}{1.07^7} + \\ldots\\\\\n",
    "&= \\sum_{k = 1}^5 \\frac{1}{1.07}\\left(\\frac{1.10}{1.07}\\right)^{k - 1} + \\sum_{k = 1}^\\infty \\frac{1.10^4\\cdot 1.05}{1.07^6}\\left(\\frac{1.05}{1.07}\\right)^{k - 1}\\\\\n",
    "&= \\frac{1}{1.07}\\sum_{k = 1}^5 \\left(\\frac{1.10}{1.07}\\right)^{k - 1} + \\frac{1.10^4\\cdot 1.05}{1.07^6}\\sum_{k = 1}^\\infty \\left(\\frac{1.05}{1.07}\\right)^{k - 1}\\\\\n",
    "&= \\frac{1}{1.07} \\frac{1 - \\left(\\frac{1.10}{1.07}\\right)^5}{1 - \\frac{1.10}{1.07}} + \\frac{1.10^4\\cdot 1.05}{1.07^6} \\frac{1}{1 - \\frac{1.05}{1.07}}\\\\\n",
    "&= \\frac{\\left(\\frac{1.10}{1.07}\\right)^5 - 1}{0.03} + \\frac{1.10^4\\cdot 1.05}{1.07^5\\cdot 0.02}\\\\\n",
    "&\\approx 59.75.\n",
    "\\end{align*}\n",
    "$\n",
    "\n",
    "Hence, this perpetuity is worth about \\$59.75.\n",
    "\n",
    "(d) Payments of $\\$ k^k$ in the $k$-th year, where 2024 corresponds to $k = 1$.\n",
    "\n",
    "**Solution** This does not converge. In summation notation, the value of this perpetuity is\n",
    "$$\n",
    "\\sum_{k = 1}^\\infty \\frac{k^k}{1.07^k} = \\sum_{k = 1}^\\infty \\left(\\frac{k}{1.07}\\right)^k.\n",
    "$$\n",
    "It is clear\n",
    "$$\n",
    "\\left(\\frac{k}{1.07}\\right)^k > \\frac{k}{1.07}\n",
    "$$\n",
    "for $k\\geq 2$. Furthermore,\n",
    "$$\n",
    "\\lim_{k\\to\\infty} \\frac{k}{1.07} = \\infty \\neq 0.\n",
    "$$\n",
    "Because\n",
    "$$\n",
    "\\sum_{k = 1}^\\infty \\frac{k}{1.07}\n",
    "$$\n",
    "does not converge, neither does \n",
    "$$\n",
    "\\sum_{k = 1}^\\infty \\frac{k^k}{1.07^k}.\n",
    "$$"
   ]
  }
 ],
 "metadata": {
  "kernelspec": {
   "display_name": "Python 3",
   "language": "python",
   "name": "python3"
  },
  "language_info": {
   "codemirror_mode": {
    "name": "ipython",
    "version": 3
   },
   "file_extension": ".py",
   "mimetype": "text/x-python",
   "name": "python",
   "nbconvert_exporter": "python",
   "pygments_lexer": "ipython3",
   "version": "3.7.7"
  }
 },
 "nbformat": 4,
 "nbformat_minor": 4
}
