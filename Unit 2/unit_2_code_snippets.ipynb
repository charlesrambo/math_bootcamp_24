{
 "cells": [
  {
   "cell_type": "markdown",
   "metadata": {},
   "source": [
    "# Unit 2"
   ]
  },
  {
   "cell_type": "code",
   "execution_count": 26,
   "metadata": {},
   "outputs": [],
   "source": [
    "# Define path for files\n",
    "\n",
    "path = r'/Users/charlesrambo/Desktop/Bootcamp24/Images/'"
   ]
  },
  {
   "cell_type": "markdown",
   "metadata": {},
   "source": [
    "## Linear Algebra\n",
    "### Matrices"
   ]
  },
  {
   "cell_type": "code",
   "execution_count": 27,
   "metadata": {},
   "outputs": [],
   "source": [
    "# Import module\n",
    "import numpy as np\n",
    "\n",
    "# Define matrices\n",
    "C = np.array([[2, 1, 3, 4], \n",
    "              [-3, 1, 5, 1], \n",
    "              [5, -1, 11, 7], \n",
    "              [-1, 10, 2, 4]])\n",
    "\n",
    "D = np.array([[100, -5, 2, 1], \n",
    "              [7, -2, 1, 1], \n",
    "              [-5, 1, 2, 3], \n",
    "              [20, 1, 4, 50]])\n",
    "\n",
    "# Perform arithmetic \n",
    "result_a = 2 * C + D\n",
    "result_b = C @ D.T"
   ]
  },
  {
   "cell_type": "code",
   "execution_count": 28,
   "metadata": {},
   "outputs": [
    {
     "data": {
      "text/plain": [
       "array([[0.707107],\n",
       "       [0.      ],\n",
       "       [0.707107]])"
      ]
     },
     "execution_count": 28,
     "metadata": {},
     "output_type": "execute_result"
    }
   ],
   "source": [
    "# Import module\n",
    "import numpy as np\n",
    "from scipy.linalg import null_space\n",
    "\n",
    "# Define matrix\n",
    "A = np.array([[-1, 0, 1], [5, 1, -5]])\n",
    "\n",
    "# Calculate null space\n",
    "null = null_space(A)\n",
    "\n",
    "# Round results\n",
    "null = np.round(null, 6)\n",
    "\n",
    "# Note: any non-zero scalar multiple of result is correct\n",
    "null"
   ]
  },
  {
   "cell_type": "markdown",
   "metadata": {},
   "source": [
    "### Coordinate and Matrix Representation"
   ]
  },
  {
   "cell_type": "code",
   "execution_count": 29,
   "metadata": {},
   "outputs": [
    {
     "data": {
      "text/plain": [
       "array([[ 3.,  5.],\n",
       "       [-5.,  1.]])"
      ]
     },
     "execution_count": 29,
     "metadata": {},
     "output_type": "execute_result"
    }
   ],
   "source": [
    "import numpy as np\n",
    "from scipy.linalg import null_space\n",
    "\n",
    "# Change of basis function\n",
    "def change_matrix_basis(matrix, basis_new):\n",
    "    \"\"\"\n",
    "    matrix: nxn matrix written in original basis\n",
    "    basis_new: nxn matrix where column j represents \n",
    "        the j-th basis element written in terms of \n",
    "        the original basis\n",
    "        \n",
    "    return: matrix written in terms of the new basis\n",
    "    \"\"\"\n",
    "    \n",
    "    # Check to verify that basis_new is actually a basis\n",
    "    if null_space(basis_new).shape[1] != 0:\n",
    "        \n",
    "        raise Exception('This is not a basis!')\n",
    "    \n",
    "    # Calculate matrix written in new basis\n",
    "    matrix_new = np.linalg.inv(basis_new) @ matrix @ basis_new\n",
    "    \n",
    "    # Round since float accuracy makes numbers slightly off\n",
    "    matrix_new = np.round(matrix_new, 6)\n",
    "    \n",
    "    return matrix_new\n",
    "\n",
    "# Define matrix\n",
    "matrix = np.array([[2, -4], [6, 2]])\n",
    "basis_new = np.array([[1, 1], [1, -1]])\n",
    "\n",
    "change_matrix_basis(matrix, basis_new)"
   ]
  },
  {
   "cell_type": "markdown",
   "metadata": {},
   "source": [
    "### Projections"
   ]
  },
  {
   "cell_type": "code",
   "execution_count": 30,
   "metadata": {},
   "outputs": [
    {
     "data": {
      "image/png": "[encoded data removed]",
      "text/plain": [
       "<Figure size 1200x825 with 1 Axes>"
      ]
     },
     "metadata": {},
     "output_type": "display_data"
    }
   ],
   "source": [
    "# Import modules\n",
    "import numpy as np, matplotlib.pyplot as plt\n",
    "\n",
    "# Use Seaborn style\n",
    "plt.style.use('seaborn')\n",
    "\n",
    "# Use LaTeX\n",
    "plt.rcParams['text.usetex'] = True\n",
    "\n",
    "# Define u and v\n",
    "u, v = np.array([2, 1]), np.array([1, 2])\n",
    "\n",
    "# Calculate projection; key step\n",
    "proj = np.dot(u, v)/np.linalg.norm(u)**2 * u\n",
    "\n",
    "# Calculate the part of v perpendicular to u\n",
    "u_perp = v - proj\n",
    "\n",
    "# Define origin\n",
    "origin = np.array([0, 0])\n",
    "\n",
    "# Plot figure\n",
    "fig, ax = plt.subplots(1, 1, dpi = 150)\n",
    "\n",
    "# Draw arrow for u\n",
    "ax.arrow(*origin, *u, label = r'$\\vec{u}$', \n",
    "         color = 'blue', width = 0.01, \n",
    "         length_includes_head = True)\n",
    "\n",
    "# Draw arrow for v\n",
    "ax.arrow(*origin, *v, label = r'$\\vec{v}$', \n",
    "         color = 'red', width = 0.01, \n",
    "         length_includes_head = True)\n",
    "\n",
    "# Draw arrow for projection\n",
    "ax.arrow(*origin, *proj, label = r'$proj_{\\vec{u}}(\\vec{v})$', \n",
    "           color = 'purple', width = 0.01, \n",
    "         length_includes_head = True)\n",
    "\n",
    "# Draw arrow for part of v perpendicular to u\n",
    "# Place initial side at terminal side of projection\n",
    "ax.arrow(*proj, *u_perp, label = r'$v - proj_{\\vec{u}}(\\vec{v})$', \n",
    "           color = 'gray', width = 0.01, \n",
    "         length_includes_head = True)\n",
    "\n",
    "# Add a little horizontal space for legend\n",
    "ax.set_xlim([0, np.max([u[0], v[0], proj[0], u_perp[0]]) + 0.2])\n",
    "\n",
    "# Make aspect ratio equal\n",
    "fig.gca().set_aspect('equal')\n",
    "\n",
    "# Place legend at upper right\n",
    "ax.legend(loc = 'upper right')\n",
    "\n",
    "# Save the figure\n",
    "plt.savefig(path + r'ex2-1.png')\n",
    "\n",
    "# Show graph\n",
    "plt.show()"
   ]
  },
  {
   "cell_type": "code",
   "execution_count": 61,
   "metadata": {},
   "outputs": [
    {
     "data": {
      "text/plain": [
       "array([1., 2., 0.])"
      ]
     },
     "execution_count": 61,
     "metadata": {},
     "output_type": "execute_result"
    }
   ],
   "source": [
    "import numpy as np\n",
    "\n",
    "# Define u1 and u2\n",
    "u1, u2 = np.array([1, 1, 0]), np.array([1, -1, 0])\n",
    "\n",
    "# Define v\n",
    "v = np.array([1, 2, 3])\n",
    "\n",
    "# Calculate projection\n",
    "\n",
    "# First, projection onto u1\n",
    "proj = np.dot(u1, v)/np.linalg.norm(u1)**2 * u1 \n",
    "\n",
    "# Second, add projection onto u2\n",
    "proj += np.dot(u2, v)/np.linalg.norm(u2)**2 * u2\n",
    "\n",
    "proj"
   ]
  },
  {
   "cell_type": "code",
   "execution_count": 62,
   "metadata": {},
   "outputs": [
    {
     "name": "stdout",
     "output_type": "stream",
     "text": [
      "The number of norms less than the norm of v - proj_U(v) is 0.\n"
     ]
    }
   ],
   "source": [
    "# Set random seed\n",
    "np.random.seed(0)\n",
    "\n",
    "# Calculate minimal norm\n",
    "min_norm = np.linalg.norm(v - proj)\n",
    "\n",
    "# Define number of trials\n",
    "trials = 100_000\n",
    "\n",
    "# Initialize object to hold results\n",
    "norm_vals = np.zeros(trials)\n",
    "\n",
    "for i in range(trials):\n",
    "    \n",
    "    # Generate weights; use guassian distribution\n",
    "    alpha = np.random.normal(size = 2)\n",
    "    \n",
    "    # Calculate u'\n",
    "    u_prime = alpha[0] * u1 + alpha[1] * u2\n",
    "    \n",
    "    # Calculate and record norm\n",
    "    norm_vals[i] = np.linalg.norm(v - u_prime)\n",
    "    \n",
    "print(f'The number of norms less than the norm of v - proj_U(v) is {np.sum(norm_vals < min_norm)}.')"
   ]
  },
  {
   "cell_type": "code",
   "execution_count": 63,
   "metadata": {},
   "outputs": [
    {
     "data": {
      "image/png": "[encoded data removed]",
      "text/plain": [
       "<Figure size 800x550 with 1 Axes>"
      ]
     },
     "metadata": {},
     "output_type": "display_data"
    }
   ],
   "source": [
    "import matplotlib.pyplot as plt\n",
    "\n",
    "# Use Seaborn style\n",
    "plt.style.use('seaborn')\n",
    "\n",
    "# Use LaTeX\n",
    "plt.rcParams['text.usetex'] = True\n",
    "\n",
    "# Plot figure\n",
    "fig, ax = plt.subplots(1, 1, dpi = 100)\n",
    "\n",
    "ax.hist(norm_vals, label = r\"$\\|\\vec{v} - \\vec{u}'\\|$\", bins = int(np.sqrt(trials)))\n",
    "\n",
    "ax.axvline(min_norm, ymin = 0, ymax = 1, label = r'$\\| \\vec{v} - proj_U(\\vec{v})\\|$', \n",
    "           color = 'red')\n",
    "\n",
    "ax.set_title(r\"$\\min_{\\vec{u}'\\in U} \\| \\vec{v} - \\vec{u}'\\| = $ \" + f'{np.min(norm_vals):.5f};' +\n",
    "             r' $\\|\\vec{v} - proj_{U}(\\vec{v})\\| = $ ' + f'{min_norm:.5f}.', fontsize = 15)\n",
    "\n",
    "# Create a legend\n",
    "ax.legend(fontsize = 12)\n",
    "\n",
    "# Save the figure\n",
    "plt.savefig(path + r'ex2-2.png')\n",
    "\n",
    "plt.show()\n"
   ]
  },
  {
   "cell_type": "code",
   "execution_count": null,
   "metadata": {},
   "outputs": [],
   "source": [
    "# Remove norm_vals from RAM since it's big\n",
    "del norm_vals"
   ]
  },
  {
   "cell_type": "code",
   "execution_count": 34,
   "metadata": {},
   "outputs": [
    {
     "data": {
      "image/png": "[encoded data removed]",
      "text/plain": [
       "<Figure size 576x396 with 1 Axes>"
      ]
     },
     "metadata": {},
     "output_type": "display_data"
    }
   ],
   "source": [
    "import numpy as np, matplotlib.pyplot as plt\n",
    "\n",
    "# Use Seaborn style\n",
    "plt.style.use('seaborn')\n",
    "\n",
    "# Import numerical integrator\n",
    "from scipy.integrate import quad\n",
    "\n",
    "# Define inner product\n",
    "inner = lambda f, g: quad(lambda x: f(x) * g(x), 0, 1)[0]\n",
    "\n",
    "# Define basis elements\n",
    "u1, u2 = lambda x: 1, lambda x: x - 1/2 \n",
    "\n",
    "# Calculate inner products\n",
    "a_proj, b_proj = inner(u1, np.exp)/inner(u1, u1), inner(u2, np.exp)/inner(u2, u2) \n",
    "\n",
    "# Define small value\n",
    "h = 1e-5\n",
    "\n",
    "# Calculate tangent line coeffs\n",
    "a_tl, b_tl = np.exp(0.5), (np.exp(0.5 + h) - np.exp(0.5 - h))/(2 * h)\n",
    "\n",
    "# Define functions \n",
    "proj = lambda x: a_proj * u1(x) + b_proj * u2(x)\n",
    "tan_line = lambda x: a_tl * u1(x) + b_tl * u2(x)\n",
    "\n",
    "# Get the x-values for plot\n",
    "x_vals = np.linspace(0, 1, 100)\n",
    "\n",
    "# Plot results\n",
    "plt.plot(x_vals, [proj(x) for x in x_vals], label = 'Projection')\n",
    "plt.plot(x_vals, [tan_line(x) for x in x_vals], label = 'Tangent Line')\n",
    "plt.plot(x_vals, [np.exp(x) for x in x_vals], label = 'True')\n",
    "\n",
    "# Create a legend\n",
    "plt.legend()\n",
    "\n",
    "# Save the figure\n",
    "plt.savefig(path + r'ex2-3.png')\n",
    "\n",
    "# Show plot\n",
    "plt.show()"
   ]
  },
  {
   "cell_type": "code",
   "execution_count": 35,
   "metadata": {},
   "outputs": [
    {
     "name": "stdout",
     "output_type": "stream",
     "text": [
      "Using the projection approximation the norm is 0.063.\n",
      "Using the tangent line approximation the norm is 0.094.\n"
     ]
    }
   ],
   "source": [
    "# Define norm\n",
    "norm = lambda f: np.sqrt(inner(f, f))\n",
    "\n",
    "# Let's calculate the norms\n",
    "norm_proj, norm_tl = norm(lambda x: np.exp(x) - proj(x)), norm(lambda x: np.exp(x) - tan_line(x))\n",
    "\n",
    "print(f'Using the projection approximation the norm is {norm_proj:.3f}.')\n",
    "print(f'Using the tangent line approximation the norm is {norm_tl:.3f}.')"
   ]
  },
  {
   "cell_type": "markdown",
   "metadata": {},
   "source": [
    "### Eigenvectors and Eigenvalues"
   ]
  },
  {
   "cell_type": "code",
   "execution_count": 36,
   "metadata": {},
   "outputs": [
    {
     "name": "stdout",
     "output_type": "stream",
     "text": [
      "eigenvalue: 1.00; eigenvector: [0. 1. 0.]\n",
      "\n",
      "eigenvalue: 3.00; eigenvector: [ 0.57735027 -0.57735027 -0.57735027]\n",
      "\n",
      "eigenvalue: 2.00; eigenvector: [-0.33333333  0.66666667  0.66666667]\n",
      "\n"
     ]
    }
   ],
   "source": [
    "import numpy as np\n",
    "\n",
    "# Define matrix \n",
    "A = np.array([[4, 0, 1], [-2, 1, 0], [-2, 0, 1]])\n",
    "\n",
    "# Get the eigenvalues and eigenvectors\n",
    "evals, evecs = np.linalg.eig(A)\n",
    "\n",
    "# Loop through results\n",
    "for i in range(len(evals)):\n",
    "    \n",
    "    print(f'eigenvalue: {evals[i]:.2f}; eigenvector: {evecs[:, i]}\\n')\n"
   ]
  },
  {
   "cell_type": "markdown",
   "metadata": {},
   "source": [
    "## Multivariable Calculus\n",
    "### Maximum and Minimum Values"
   ]
  },
  {
   "cell_type": "code",
   "execution_count": 56,
   "metadata": {},
   "outputs": [
    {
     "data": {
      "text/plain": [
       "      fun: 2.0412414523198583\n",
       " hess_inv: array([[ 1.71207714, -0.67961111],\n",
       "       [-0.67961111,  0.68098713]])\n",
       "      jac: array([9.23871994e-07, 1.51991844e-06])\n",
       "  message: 'Optimization terminated successfully.'\n",
       "     nfev: 32\n",
       "      nit: 7\n",
       "     njev: 8\n",
       "   status: 0\n",
       "  success: True\n",
       "        x: array([1.83333386, 1.66666707])"
      ]
     },
     "execution_count": 56,
     "metadata": {},
     "output_type": "execute_result"
    }
   ],
   "source": [
    "import numpy as np\n",
    "from scipy.optimize import minimize\n",
    "\n",
    "# Define function\n",
    "def distance(pt):\n",
    "    \n",
    "    # Get the x- and y-values\n",
    "    x, y = pt[0], pt[1]\n",
    "    \n",
    "    # Define z \n",
    "    z = 4 - x - 2 * y\n",
    "    \n",
    "    return np.sqrt((x - 1)**2 + y**2 + (z + 2)**2)\n",
    "\n",
    "# Get the result   \n",
    "minimize(distance, x0 = [0, 0]) \n",
    "\n",
    "# Another option is to use the constraint x + 2y + z - 4 = 0 and optimize with three variables "
   ]
  },
  {
   "cell_type": "markdown",
   "metadata": {},
   "source": [
    "### Multiple Integrals"
   ]
  },
  {
   "cell_type": "code",
   "execution_count": 57,
   "metadata": {},
   "outputs": [
    {
     "data": {
      "text/plain": [
       "0.16666666666666669"
      ]
     },
     "execution_count": 57,
     "metadata": {},
     "output_type": "execute_result"
    }
   ],
   "source": [
    "# See https://docs.scipy.org/doc/scipy/reference/generated/scipy.integrate.dblquad.html\n",
    "from scipy.integrate import dblquad\n",
    "\n",
    "# Define f; integrate y the x\n",
    "f = lambda y, x: x * y**2\n",
    "\n",
    "# Integrate; integrate 3rd to 4th input then 2nd to 3rd input\n",
    "dblquad(f, 0, 1, 0, 1)[0]"
   ]
  },
  {
   "cell_type": "code",
   "execution_count": 59,
   "metadata": {},
   "outputs": [
    {
     "data": {
      "text/plain": [
       "0.13333333333333333"
      ]
     },
     "execution_count": 59,
     "metadata": {},
     "output_type": "execute_result"
    }
   ],
   "source": [
    "from scipy.integrate import dblquad\n",
    "\n",
    "# Define f; integrate x then y\n",
    "f = lambda x, y: x * y**2\n",
    "\n",
    "# Integrate; integrate x = 0 to x = (2 - y)/2 then y = 0 to y = 2\n",
    "dblquad(f, 0, 2, lambda y: 0, lambda y: (2 - y)/2)[0]"
   ]
  }
 ],
 "metadata": {
  "kernelspec": {
   "display_name": "Python 3",
   "language": "python",
   "name": "python3"
  },
  "language_info": {
   "codemirror_mode": {
    "name": "ipython",
    "version": 3
   },
   "file_extension": ".py",
   "mimetype": "text/x-python",
   "name": "python",
   "nbconvert_exporter": "python",
   "pygments_lexer": "ipython3",
   "version": "3.7.7"
  }
 },
 "nbformat": 4,
 "nbformat_minor": 4
}
