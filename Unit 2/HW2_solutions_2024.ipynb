{
 "cells": [
  {
   "cell_type": "markdown",
   "metadata": {},
   "source": [
    "# Homework 2 Solutions\n",
    "Modules that we'll use for our solutions."
   ]
  },
  {
   "cell_type": "code",
   "execution_count": 2,
   "metadata": {},
   "outputs": [],
   "source": [
    "import numpy as np\n",
    "import pandas as pd\n",
    "from scipy.integrate import quad\n",
    "from scipy.linalg import solve\n",
    "from scipy.optimize import minimize\n",
    "import matplotlib.pyplot as plt\n",
    "\n",
    "# Use LaTex\n",
    "plt.rcParams['text.usetex'] = True\n",
    "\n",
    "# Use Seaborn style\n",
    "plt.style.use('seaborn')\n",
    "#plt.style.use('seaborn-v0_8')"
   ]
  },
  {
   "cell_type": "markdown",
   "metadata": {},
   "source": [
    "## Question 1\n",
    "The matrix\n",
    "$$\n",
    "P = \\left(\\begin{array}{c c c c} 0.84 & 0.13 & 0.03 &  0\\\\ 0.10 &  0.77 & 0.09 & 0.04\\\\ 0.10 &  0.20 &  0.65 &  0.05\\\\ 0 &  0 &  0 & 1\\end{array}\\right)\n",
    "$$\n",
    "denotes the one-year transition probabilities for firms with investment grade, speculative, junk, and defaulted unsecured debt. The rows represent the current states, and the columns represent the states after one year. For example, the probability that a firm with investment grade debt transitions to a firm whose debt is considered junk after one year is 3\\%, while the probability that a firm whose debt is considered junk transitions to a firm with speculative debt is 20\\%. Notice that we are supposing firms do not transition out of default.\n",
    "\n",
    "\n",
    "(a) Compute $P^2$. Interpret your results. Are there any assumptions attached to your conclusion?\n"
   ]
  },
  {
   "cell_type": "code",
   "execution_count": 3,
   "metadata": {},
   "outputs": [
    {
     "name": "stdout",
     "output_type": "stream",
     "text": [
      "The matrix P^2 is:\n",
      "\n",
      "[[0.722 0.215 0.056 0.007]\n",
      " [0.17  0.624 0.131 0.075]\n",
      " [0.169 0.297 0.444 0.09 ]\n",
      " [0.    0.    0.    1.   ]]\n"
     ]
    }
   ],
   "source": [
    "# Define P\n",
    "P = np.array([[0.84, 0.13, 0.03, 0], [0.10, 0.77, 0.09, 0.04], \n",
    "              [0.10, 0.20, 0.65, 0.05], [0, 0, 0, 1]])\n",
    "\n",
    "# Compute P^2\n",
    "P_squared = P @ P\n",
    "\n",
    "print('The matrix P^2 is:\\n')\n",
    "print(np.round(P_squared, 3))"
   ]
  },
  {
   "cell_type": "markdown",
   "metadata": {},
   "source": [
    "The matrix $P^2$ denotes the two-year transition matrix. However, we're making the assumption that there is no \"path dependence\", i.e. what happens in year two has nothing to do with year one beyond the credit profile at the end of year one.\n",
    "\n",
    "(b) Find the eigenvalues and eigenvectors of $P$."
   ]
  },
  {
   "cell_type": "code",
   "execution_count": 6,
   "metadata": {},
   "outputs": [
    {
     "name": "stdout",
     "output_type": "stream",
     "text": [
      "Eigenvalue 0.975 with corresponding eigenvector [0.644 0.548 0.534 0.   ]^T.\n",
      "Eigenvalue 0.721 with corresponding eigenvector [ 0.697 -0.523 -0.491  0.   ]^T.\n",
      "Eigenvalue 0.563 with corresponding eigenvector [ 0.111 -0.441  0.89   0.   ]^T.\n",
      "Eigenvalue 1.000 with corresponding eigenvector [0.5 0.5 0.5 0.5]^T.\n"
     ]
    }
   ],
   "source": [
    "# Get the eigenvalues and eigenvectors\n",
    "evals, evecs = np.linalg.eig(P)\n",
    "\n",
    "# Call evecs N to be consistant with work in class\n",
    "N = evecs\n",
    "\n",
    "# Print eigenvalues and corresponding eigen vectors\n",
    "for eval, evec in zip(evals, evecs.T):\n",
    "    \n",
    "    print(f'Eigenvalue {eval:.3f} with corresponding eigenvector {np.round(evec, 3)}^T.')"
   ]
  },
  {
   "cell_type": "markdown",
   "metadata": {},
   "source": [
    "(c) Use (b) to diagonalize $P$."
   ]
  },
  {
   "cell_type": "code",
   "execution_count": 8,
   "metadata": {},
   "outputs": [
    {
     "name": "stdout",
     "output_type": "stream",
     "text": [
      "The diagonal matrix D is: \n",
      "\n",
      "[[ 0.975 -0.     0.     0.   ]\n",
      " [-0.     0.721 -0.    -0.   ]\n",
      " [-0.     0.     0.563 -0.   ]\n",
      " [ 0.     0.     0.     1.   ]]\n"
     ]
    }
   ],
   "source": [
    "# Calculate the diagonal matrix\n",
    "D = np.linalg.inv(N) @ P @ N\n",
    "\n",
    "# Print D with a little explanation\n",
    "print('The diagonal matrix D is: \\n')\n",
    "  \n",
    "print(np.round(D, 3))"
   ]
  },
  {
   "cell_type": "code",
   "execution_count": 9,
   "metadata": {},
   "outputs": [
    {
     "name": "stdout",
     "output_type": "stream",
     "text": [
      "The value of is_close should equal 16 if everything is correct.\n",
      "is_close = 16\n"
     ]
    }
   ],
   "source": [
    "# Verify that everything is in-line with the theory\n",
    "is_close = np.sum(np.isclose(D, np.diag(evals)))\n",
    "\n",
    "# Print check\n",
    "print(f'The value of is_close should equal {P.shape[0]**2} if everything is correct.')\n",
    "print(f'is_close = {is_close}') "
   ]
  },
  {
   "cell_type": "markdown",
   "metadata": {},
   "source": [
    "(d) Analytically compute $\\displaystyle\\lim_{n\\to\\infty} P^n$ using (c). \n",
    "\n",
    "From lecture we know $P^n = N D^n N^{-1}$, where the columns of $N$ are our basis of eigenvectors. Hence,\n",
    "$$\n",
    "P^n \\approx N \\left(\\begin{array}{c c c c} \\lambda_1^n & 0 & 0 & 0\\\\ 0 & \\lambda_2^n & 0 & 0\\\\ 0 & 0 & \\lambda_3^n & 0 \\\\ 0 & 0 & 0 & \\lambda_4^2\\end{array}\\right) N^{-1},\n",
    "$$\n",
    "where $0 < \\lambda_k < 1$ for $k = 1, 2,$ or 3, and $\\lambda_4 = 1$. Hence, it is clear\n",
    "$$\n",
    "\\lim_{n\\to\\infty} P^n = N \\left(\\begin{array}{c c c c} 0 & 0 & 0 & 0\\\\ 0 & 0 & 0 & 0\\\\ 0 & 0 & 0 & 0 \\\\ 0 & 0 & 0 & 1\\end{array}\\right) N^{-1} = \\left(\\begin{array}{c c c c} 0 & 0 & 0 & 1\\\\0 & 0 & 0 & 1\\\\0 & 0 & 0 & 1\\\\ 0 & 0 & 0 & 1\\end{array}\\right).\n",
    "$$\n",
    "We will check the result below."
   ]
  },
  {
   "cell_type": "code",
   "execution_count": 10,
   "metadata": {},
   "outputs": [
    {
     "name": "stdout",
     "output_type": "stream",
     "text": [
      "The value of is_close should equal 16 if everything is correct.\n",
      "is_close = 16\n"
     ]
    }
   ],
   "source": [
    "# Raise D to a large integer to check\n",
    "approx_answer = N @ D**1000 @ np.linalg.inv(N)\n",
    "\n",
    "# Analytic answer\n",
    "analytic_answer = np.array([[0, 0, 0, 1], [0, 0, 0, 1], \n",
    "                            [0, 0, 0, 1], [0, 0, 0, 1]])\n",
    "\n",
    "# Count the number of entries that line up\n",
    "is_close = np.sum(np.isclose(approx_answer, analytic_answer))\n",
    "\n",
    "# Print check\n",
    "print(f'The value of is_close should equal {P.shape[0]**2} if everything is correct.')\n",
    "print(f'is_close = {is_close}') "
   ]
  },
  {
   "cell_type": "markdown",
   "metadata": {},
   "source": [
    "## Question 2\n",
    "You have graduated from the MFE program and landed yourself a job as a quantitative trading analyst in a pod shop! Through careful analysis, you determine that the best way to model the market impact of trades is via a function proportional to $x^{3/2}$, where $x$ represents the size of the transaction as a percent. However, your shop uses quadratic programming for portfolio construction. Hence, to integrate a market impact model into the quadratic program, the model must be a quadratic polynomial. As a result, your goal is to approximate $x^{3/2}$ using a quadratic polynomial. Your pod shop does not make any trades larger than 1\\% of its portfolio as a matter of policy. Therefore, if $\\hat{f}$ is your approximation, you are interested in reducing the error\n",
    "$$\n",
    "\\int_0^1 \\left[x^{3/2} - \\hat{f}(x)\\right]^2\\ dx.\n",
    "$$\n",
    "\n",
    "You want to find the orthogonal projection of $x^{3/2}$ onto the subspace of quadratic polynomials.  Since you are interested in reducing the square error, use the inner product\n",
    "$$\n",
    "\\langle f, g\\rangle = \\int_0^1 f(x) g(x)\\ dx.\n",
    "$$\n"
   ]
  },
  {
   "cell_type": "code",
   "execution_count": 24,
   "metadata": {},
   "outputs": [],
   "source": [
    "# Define inner product based on question\n",
    "inner_product = lambda f, g: quad(lambda x: f(x) * g(x), 0, 1)[0]\n",
    "\n",
    "# Use inner product to create norm\n",
    "norm = lambda f: np.sqrt(inner_product(f, f))\n",
    "\n",
    "# Define market impact function\n",
    "market_impact_fun = lambda x: x**(3/2)\n",
    "\n",
    "# Create function to get polynomial coefficients\n",
    "def get_plolynomial_coeffs(plolynomial, degree):\n",
    "        \n",
    "    # Generate test x-values\n",
    "    test_vals = np.arange(1, degree + 2).reshape((-1, 1))\n",
    "\n",
    "    # Raise test_vals to powers up to degree\n",
    "    A = np.concatenate([test_vals**i for i in range(degree + 1)], axis = 1)\n",
    "\n",
    "    # Evaluate at test_vals; assume plolynomial vectorized\n",
    "    y = plolynomial(test_vals)\n",
    "\n",
    "    # Solve system\n",
    "    coeffs = solve(A, y).flatten()\n",
    "\n",
    "    # Usually polynomials written from highest to lowest degree\n",
    "    coeffs = np.flip(coeffs)\n",
    "\n",
    "    return coeffs\n",
    "       "
   ]
  },
  {
   "cell_type": "markdown",
   "metadata": {},
   "source": [
    "(a) Orthogonalize the basis $(1, x, x^2)$."
   ]
  },
  {
   "cell_type": "code",
   "execution_count": 26,
   "metadata": {},
   "outputs": [
    {
     "name": "stdout",
     "output_type": "stream",
     "text": [
      "The orthogonal basis is:\n",
      " \n",
      "u_0(x) = 1\n",
      "u_1(x) = 1.000 x + -0.500\n",
      "u_2(x) = 1.000 x^2 + -1.000 x + 0.167\n"
     ]
    }
   ],
   "source": [
    "# Use Gram-Schmidt process to find u_i\n",
    "u0 = lambda x: 1\n",
    "u1 = lambda x: x - inner_product(lambda x: x, u0)/norm(u0)**2 * u0(x)\n",
    "u2 = lambda x: (x**2 - inner_product(lambda x: x**2, u1)/norm(u1)**2 * u1(x)\n",
    "                - inner_product(lambda x: x**2, u0)/norm(u0)**2 * u0(x))\n",
    "\n",
    "print('The orthogonal basis is:\\n ')\n",
    "\n",
    "# Let's find algebraic expressions for u_i\n",
    "\n",
    "# u_0 is the simplest since it's constant\n",
    "print(f'u_0(x) = {u0(0)}')\n",
    "\n",
    "# Use function to find coeffs of u1\n",
    "coeffs1 = get_plolynomial_coeffs(u1, 1)\n",
    "\n",
    "# Print results\n",
    "print(f'u_1(x) = {coeffs1[0]:.3f} x + {coeffs1[1]:.3f}')\n",
    "\n",
    "# Use function to find coeffs of u2\n",
    "coeffs2 = get_plolynomial_coeffs(u2, 2)\n",
    "\n",
    "print(f'u_2(x) = {coeffs2[0]:.3f} x^2 + {coeffs2[1]:.3f} x + {coeffs2[2]:.3f}')\n"
   ]
  },
  {
   "cell_type": "markdown",
   "metadata": {},
   "source": [
    "(b) Use your result from (a) to project $x^{3/2}$ onto the subspace of polynomials of order at most two."
   ]
  },
  {
   "cell_type": "code",
   "execution_count": 21,
   "metadata": {},
   "outputs": [
    {
     "name": "stdout",
     "output_type": "stream",
     "text": [
      "The market impact function projected onto the subspace of quadratic polynomials is:\n",
      "\n",
      "0.571 x^2 + 0.457 x + -0.019\n"
     ]
    }
   ],
   "source": [
    "# Initialize array to hold coefficients\n",
    "alphas = np.zeros(3)\n",
    "\n",
    "# Calculate coefficients of projection of market_impact_fun onto each u_i\n",
    "for i, u in enumerate([u0, u1, u2]):\n",
    "    \n",
    "    alphas[i] = inner_product(market_impact_fun, u)/norm(u)**2\n",
    "\n",
    "# Get projection function\n",
    "proj = lambda x: alphas[0] * u0(x) + alphas[1] * u1(x) + alphas[2] * u2(x)\n",
    "\n",
    "# Find coefficients of projection function\n",
    "coeffs_proj = get_plolynomial_coeffs(proj, 2)\n",
    "\n",
    "print('The market impact function projected onto the subspace of quadratic polynomials is:\\n')\n",
    "print(f'{coeffs_proj[0]:.3f} x^2 + {coeffs_proj[1]:.3f} x + {coeffs_proj[2]:.3f}')"
   ]
  },
  {
   "cell_type": "markdown",
   "metadata": {},
   "source": [
    "(c) To access model efficacy, also use a second-degree Taylor polynomial centered at $x = 1/2$ to approximate $x^{3/2}$."
   ]
  },
  {
   "cell_type": "code",
   "execution_count": 27,
   "metadata": {},
   "outputs": [
    {
     "name": "stdout",
     "output_type": "stream",
     "text": [
      "The second-degree Taylor polynomal approximation of the market impact function is:\n",
      "\n",
      "0.530 x^2 + 0.530 x + -0.044\n"
     ]
    }
   ],
   "source": [
    "# Define small step\n",
    "h = 1e-4\n",
    "\n",
    "# Calculate the zero-th, first, and second derivatives evaluated at x = 1/2\n",
    "a = market_impact_fun(1/2)\n",
    "b = (market_impact_fun(1/2 + h) - market_impact_fun(1/2 - h))/(2 * h)\n",
    "c = (market_impact_fun(1/2 + h) - 2 * market_impact_fun(1/2) + market_impact_fun(1/2 - h))/h**2\n",
    "\n",
    "# Use results to obtain second-degree Taylor polynomial\n",
    "taylor = lambda x: a + b * (x - 1/2) + c/2 * (x - 1/2)**2\n",
    "\n",
    "# Find coefficients of Taylor polynomial\n",
    "coeffs_taylor = get_plolynomial_coeffs(taylor, 2)\n",
    "\n",
    "print('The second-degree Taylor polynomal approximation of the market impact function is:\\n')\n",
    "print(f'{coeffs_taylor[0]:.3f} x^2 + {coeffs_taylor[1]:.3f} x + {coeffs_taylor[2]:.3f}')"
   ]
  },
  {
   "cell_type": "markdown",
   "metadata": {},
   "source": [
    "(d) Graph  $x^{3/2}$ as well as your results from (b) and (c) on one plot via $\\texttt{plot}$ in $\\texttt{matplotlib.pyplot}$. Make sure to add a legend."
   ]
  },
  {
   "cell_type": "code",
   "execution_count": 30,
   "metadata": {},
   "outputs": [
    {
     "data": {
      "image/png": "[encoded data removed]",
      "text/plain": [
       "<Figure size 1440x720 with 1 Axes>"
      ]
     },
     "metadata": {},
     "output_type": "display_data"
    }
   ],
   "source": [
    "# Define x-values for plot\n",
    "x_vals = np.linspace(0, 1, 100)\n",
    "\n",
    "# Make figure a bit bigger\n",
    "plt.figure(figsize = (20, 10))\n",
    "\n",
    "# Plot projection\n",
    "plt.plot(x_vals, proj(x_vals), label = r'Projection')\n",
    "\n",
    "# Plot Taylor series\n",
    "plt.plot(x_vals, taylor(x_vals), label = r'Taylor')\n",
    "\n",
    "# Plot market impact model\n",
    "plt.plot(x_vals, market_impact_fun(x_vals), label = 'Market Impact Function')\n",
    "\n",
    "plt.title('Market Impact Function and Its Approximations', fontsize = 30)\n",
    "plt.legend(fontsize = 20)\n",
    "\n",
    "plt.show()\n"
   ]
  },
  {
   "cell_type": "markdown",
   "metadata": {},
   "source": [
    "(e) Compute the norm between $x^{3/2}$ and your results from (b) and (c)."
   ]
  },
  {
   "cell_type": "code",
   "execution_count": 23,
   "metadata": {},
   "outputs": [
    {
     "name": "stdout",
     "output_type": "stream",
     "text": [
      "The norm between the projection and x^(3/2) is 0.005\n",
      "The norm between the Taylor series and x^(3/2) is 0.011\n"
     ]
    }
   ],
   "source": [
    "# Calculate norm between x^(3/2) and projection\n",
    "error_projection = norm(lambda x: market_impact_fun(x) - proj(x))\n",
    "\n",
    "# Calculate norm between x^(3/2) and Taylor series\n",
    "error_taylor = norm(lambda x: market_impact_fun(x) - taylor(x))\n",
    "\n",
    "\n",
    "print(f'The norm between the projection and x^(3/2) is {error_projection:.3f}')\n",
    "print(f'The norm between the Taylor series and x^(3/2) is {error_taylor:.3f}')"
   ]
  },
  {
   "cell_type": "markdown",
   "metadata": {},
   "source": [
    "## Question 3\n",
    "\n",
    "| $x_i$ | -1 | 0 | 1 | 2 | 3 |\n",
    "| --- | --- | --- | --- | --- | --- |\n",
    "| $y_i$ |3.02 | 2.18 | 4.08 | -0.03| -1.08|\n",
    "\n",
    "Consider the function $f$ whose $xy$-coordinates are in the table above. We want to approximate $f$ via a function of the form $\\alpha + \\beta x$. \n",
    "\n",
    "(a)  Define\n",
    "$$\n",
    "\\mathcal{L}_2(\\alpha, \\beta) = \\sum_{i = 1}^5 \\left(y_i- \\alpha - \\beta x_i\\right)^2.\n",
    "$$\n",
    "Analytically minimize $\\mathcal{L}_2$ with respect to $\\alpha$ and $\\beta$ to find the optimal coefficients. Remember to check whether your solution is a minimum or a maximum. Since $\\mathcal{L}_2$ is convex a local minimum is a global minimum. \n",
    "\n",
    "**Solution** We need to take the parials of $\\mathcal{L}_2$ with respect to $\\alpha$ and $\\beta$:\n",
    "$$\n",
    "\\frac{\\partial \\mathcal{L}_2}{\\partial \\alpha} = -2 \\sum_{i = 1}^5 (y_i - \\alpha - \\beta x_i) = -16.34 + 10 \\alpha +10\\beta,\n",
    "$$\n",
    "and\n",
    "$$\n",
    "\\frac{\\partial \\mathcal{L}_2}{\\partial \\beta} = -2 \\sum_{i = 1}^5 x_i (y_i - \\alpha - \\beta x_i) = 4.28 +10\\alpha + 30\\beta.\n",
    "$$\n",
    "Note: we used Python to calculate\n",
    "$$\n",
    "\\sum_{i = 1}^5 y_i = 8.17\\qquad\\text{and}\\qquad \\sum_{i = 1}^5 x_i y_i = -2.24.\n",
    "$$\n",
    "as well as\n",
    "$$\n",
    "\\sum_{i = 1}^5 x_i = 5\\qquad\\text{and}\\qquad \\sum_{i = 1}^5 x_i^2 = 15\n",
    "$$\n",
    "though the latter two could have been calculated easily with formulas. Hence, the critical numbers are the solutions of\n",
    "$$\n",
    "\\begin{align*}\n",
    "10 \\alpha +10 \\beta &= 16.34\\\\\n",
    "10\\alpha + 30\\beta &= -4.28.\n",
    "\\end{align*}\n",
    "$$\n",
    "Solving this system yields\n",
    "$$\n",
    "\\alpha = 2.675\\qquad\\text{and}\\qquad \\beta = -1.041.\n",
    "$$\n",
    "\n",
    "To verify that this is a minimum, we first find the local minima. To find the local minima, we will use the second derivatives test. We need to find\n",
    "$$\n",
    "D = \\left|\\begin{array}{c c} \\frac{\\partial^2 \\mathcal{L}_2}{\\partial \\alpha^2} & \\frac{\\partial^2 \\mathcal{L}_2}{\\partial \\alpha\\partial\\beta}\\\\\n",
    "\\frac{\\partial^2 \\mathcal{L}_2}{\\partial \\beta\\partial\\alpha} & \\frac{\\partial^2 \\mathcal{L}_2}{\\partial \\beta^2}\\end{array}\\right|.\n",
    "$$\n",
    "In this case,\n",
    "$$\n",
    "\\frac{\\partial^2 \\mathcal{L}_2}{\\partial \\alpha^2} = 10,\\qquad \\frac{\\partial^2 \\mathcal{L}_2}{\\partial \\alpha\\partial\\beta}=\n",
    " \\frac{\\partial^2 \\mathcal{L}_2}{\\partial \\beta \\partial\\alpha} = 10,\\qquad \\frac{\\partial^2 \\mathcal{L}_2}{\\partial \\beta^2} = 30. $$\n",
    "Hence,\n",
    "$$\n",
    "D = \\left|\\begin{array}{c c} 10 & 10\\\\ 10 & 30\\end{array}\\right| = 300 - 100 = 200.\n",
    "$$\n",
    "Because\n",
    "$$\n",
    "\\frac{\\partial^2 \\mathcal{L}_2}{\\partial \\alpha^2} = 10 > 0\\qquad\\text{and}\\qquad D = 200 > 0,\n",
    "$$\n",
    "we conclude that our solution is a local minimum. Because $\\mathcal{L}_2$ is convex, local minima are global minima.\n",
    "\n",
    "(b) Use $\\texttt{minimize}$ in $\\texttt{scipy.optimize}$ to check your result from (a)."
   ]
  },
  {
   "cell_type": "code",
   "execution_count": 36,
   "metadata": {},
   "outputs": [
    {
     "data": {
      "text/plain": [
       "      fun: 7.499910000000002\n",
       " hess_inv: array([[ 0.15, -0.05],\n",
       "       [-0.05,  0.05]])\n",
       "      jac: array([1.1920929e-07, 1.1920929e-07])\n",
       "  message: 'Optimization terminated successfully.'\n",
       "     nfev: 28\n",
       "      nit: 5\n",
       "     njev: 7\n",
       "   status: 0\n",
       "  success: True\n",
       "        x: array([ 2.67500002, -1.04100001])"
      ]
     },
     "execution_count": 36,
     "metadata": {},
     "output_type": "execute_result"
    }
   ],
   "source": [
    "# Type in x- and y-values\n",
    "x_vals = np.array([-1, 0, 1, 2, 3])\n",
    "y_vals = np.array([3.02, 2.18, 4.08, -0.03, -1.08])\n",
    "\n",
    "# Define objective function\n",
    "def L2(alpha):\n",
    "    \n",
    "    # Calculate approximation\n",
    "    y_hat = alpha[0] + alpha[1] * x_vals\n",
    "    \n",
    "    # Calculate sum of squared error\n",
    "    error = np.sum((y_vals - y_hat)**2)\n",
    "    \n",
    "    return error\n",
    "\n",
    "# Minimize objective function\n",
    "res2 = minimize(L2, x0 = [0, 0])\n",
    "\n",
    "# Save coefficients\n",
    "alpha2 = res2.x\n",
    "\n",
    "# Print results\n",
    "res2"
   ]
  },
  {
   "cell_type": "markdown",
   "metadata": {},
   "source": [
    "(c) Your results in (a) and (b) minimized the square error, which is highly sensitive to outliers. Another approach is to minimize the absolute error. Use $\\texttt{minimize}$ to find $\\alpha$ and $\\beta$ that minimize\n",
    "$$\n",
    "\\mathcal{L}_1(\\alpha, \\beta) = \\sum_{i = 1}^5 \\left| y_i- \\alpha - \\beta x_i\\right|.\n",
    "$$\n",
    "Because $\\mathcal{L}_1$ is hard to optimize, the optimizer may fail to converge. As long as your coefficients are reasonable, your solution is acceptable. \n"
   ]
  },
  {
   "cell_type": "code",
   "execution_count": 37,
   "metadata": {},
   "outputs": [
    {
     "data": {
      "text/plain": [
       " final_simplex: (array([[ 2.11949869, -1.06649956],\n",
       "       [ 2.11959226, -1.06653075],\n",
       "       [ 2.11946029, -1.06648676]]), array([3.27, 3.27, 3.27]))\n",
       "           fun: 3.2700000000001395\n",
       "       message: 'Optimization terminated successfully.'\n",
       "          nfev: 193\n",
       "           nit: 105\n",
       "        status: 0\n",
       "       success: True\n",
       "             x: array([ 2.11949869, -1.06649956])"
      ]
     },
     "execution_count": 37,
     "metadata": {},
     "output_type": "execute_result"
    }
   ],
   "source": [
    "# Define objective function\n",
    "def L1(alpha):\n",
    "    \n",
    "    # Calculate approximation\n",
    "    y_hat = alpha[0] + alpha[1] * x_vals\n",
    "    \n",
    "    # Calculate sum of absolute errors\n",
    "    error = np.sum(np.abs(y_vals - y_hat))\n",
    "    \n",
    "    return error\n",
    "\n",
    "# Minimize objective function; use method that doesn't require derivatives\n",
    "res1 = minimize(L1, x0 = [0, 0], method = 'Nelder-Mead')\n",
    "\n",
    "# Save coefficients\n",
    "alpha1 = res1.x\n",
    "\n",
    "# Print results\n",
    "res1"
   ]
  },
  {
   "cell_type": "markdown",
   "metadata": {},
   "source": [
    "(d) Use $\\texttt{scatter}$ to graph the points in the table. Also, use $\\texttt{plot}$ to graph the lines corresponding to the coefficients you found in (a) and (c) on the same figure. Make sure to add a legend so that it is easy to interpret your results.\n"
   ]
  },
  {
   "cell_type": "code",
   "execution_count": 38,
   "metadata": {},
   "outputs": [
    {
     "data": {
      "image/png": "[encoded data removed]",
      "text/plain": [
       "<Figure size 1440x720 with 1 Axes>"
      ]
     },
     "metadata": {},
     "output_type": "display_data"
    }
   ],
   "source": [
    "# Change figure dimensions\n",
    "plt.figure(figsize = (20, 10))\n",
    "\n",
    "# Plot original points\n",
    "plt.scatter(x_vals, y_vals, label = 'Points', color = 'lightcoral')\n",
    "\n",
    "# Plot the values for the L_2 approximation\n",
    "plt.plot(x_vals, alpha2[0] + alpha2[1] * x_vals, label = r'$\\mathcal{L}_2$ Approximation')\n",
    "\n",
    "# Plot the values for the L_1 approximation\n",
    "plt.plot(x_vals, alpha1[0] + alpha1[1] * x_vals, label = r'$\\mathcal{L}_1$ Approximation')\n",
    "\n",
    "# Add a legend\n",
    "plt.legend(fontsize = 20)\n",
    "\n",
    "# Add x label to axis\n",
    "plt.xlabel(r'$x$', fontsize = 20)\n",
    "\n",
    "# Add y label to axis\n",
    "plt.ylabel(r'$y$', fontsize = 20)\n",
    "\n",
    "# Give the graph a title\n",
    "plt.title(r'Points and Approximations', fontsize = 30)\n",
    "\n",
    "plt.show()"
   ]
  },
  {
   "cell_type": "markdown",
   "metadata": {},
   "source": [
    "## Question 3\n",
    "A convertible bond is a debt instrument that gives\tthe owner the right, but not the obligation, to convert their debt into a predetermined number of shares of common stock. For this problem, we will suppose that the owner has the right to convert their convertible bond to one share of common stock. \n",
    "\n",
    "Supposing the underlying stock does not pay dividends, the owner may only convert their shares to common stock at maturity, and the time until maturity is a multiple of 0.5, then--under the Black-Scholes assumptions--the value of the convertible bond is\n",
    "$$\n",
    "P = S \\Phi(d_1) - 100 e^{-rT} \\Phi(d_2) + 100 e^{-rT} + \\sum_{k = 1}^{2T} \\frac{c}{2} e^{-r k/2},\n",
    "$$\t\t\n",
    "where $S$ is the value of common stock, $c$ is the coupon rate paid semiannually, $r$ is the continuously compounded discount rate, $T$ is the time until maturity, $\\sigma$ is the volatility of returns of the underlying common stock,\n",
    "$$\n",
    "d_1 = \\frac{\\ln\\left(\\frac{S}{100}\\right) + \\left(r + \\frac{\\sigma^2}{2}\\right) T}{\\sigma\\sqrt{T}}\\qquad\\text{and}\\qquad d_2 = d_1 - \\sigma\\sqrt{T}.\n",
    "$$\t\t\n",
    "The function $\\Phi$ is the standard normal cdf, which can be accessed in Python via $\\texttt{norm.cdf}$ within $\\texttt{scipy.stats}$.\n",
    "\n",
    "(a) Write a Python function that gives $P$ as a function of $c$, $r$, $S$, $T$, and $\\sigma$. Evaluate it when $c = 5\\%$, $r = 10\\%$, $S = 60$, $T = 5$, and $\\sigma = 40\\%$. Make sure that $r$ and $\\sigma$ are written in decimal form when using the pricing formula. You do not need to convert $c$ to a decimal. "
   ]
  },
  {
   "cell_type": "code",
   "execution_count": 31,
   "metadata": {},
   "outputs": [
    {
     "name": "stdout",
     "output_type": "stream",
     "text": [
      "The price of the convertible is 106.32.\n"
     ]
    }
   ],
   "source": [
    "# We need the normal cdf\n",
    "from scipy.stats import norm as gauss\n",
    "\n",
    "# Define variables so we don't have to keep typing them\n",
    "c, r, S, T, sigma = 5, 0.08, 65, 5, 0.35\n",
    "\n",
    "# Define pricing function\n",
    "def get_cvt(c, r, S, T, sigma):\n",
    "    \n",
    "    # Define d_1 and d_2\n",
    "    d1 = (np.log(S/100) + (r + 0.5 * sigma**2) * T)/(sigma * np.sqrt(T))\n",
    "    d2 = d1 - sigma * np.sqrt(T)\n",
    "    \n",
    "    # Calculate value of call option\n",
    "    call = S * gauss.cdf(d1) - 100 * np.exp(-r * T) * gauss.cdf(d2)\n",
    "    \n",
    "    # Get the value of the bond\n",
    "    bond = 100 * np.exp(-r * T) + c/2 * np.sum(np.exp(-r * np.arange(T, 0, -0.5)))\n",
    "    \n",
    "    return call + bond\n",
    "\n",
    "# Calculate the price\n",
    "P = get_cvt(c = c, r = r, S = S, T = T, sigma = sigma)\n",
    "\n",
    "print(f'The price of the convertible is {P:.2f}.')"
   ]
  },
  {
   "cell_type": "markdown",
   "metadata": {},
   "source": [
    "(b) Use your function in part (a) to compute the numerical partial derivatives of $P$\twith respect to $S$ and $r$. As before, evaluate it when $c = 5\\%$, $r = 8\\%$, $S = 65$, $T = 5$, and $\\sigma = 35\\%$."
   ]
  },
  {
   "cell_type": "code",
   "execution_count": 39,
   "metadata": {},
   "outputs": [
    {
     "name": "stdout",
     "output_type": "stream",
     "text": [
      "The respective partial derivatives of S and r are 0.64 and -275.64.\n"
     ]
    }
   ],
   "source": [
    "# Define our small step\n",
    "h = 1e-4\n",
    "\n",
    "# Compute the partial derivatives\n",
    "P_S = (get_cvt(c = c, r = r, S = S + h, T = T, sigma = sigma) \n",
    "       - get_cvt(c = c, r = r, S = S - h, T = T, sigma = sigma))/(2 * h)\n",
    "\n",
    "P_r = (get_cvt(c = c, r = r + h, S = S, T = T, sigma = sigma) \n",
    "       - get_cvt(c = c, r = r - h, S = S, T = T, sigma = sigma))/(2 * h)\n",
    "\n",
    "print(f'The respective partial derivatives of S and r are {P_S:.2f} and {P_r:.2f}.')"
   ]
  },
  {
   "cell_type": "markdown",
   "metadata": {},
   "source": [
    "(c) Unlike options where we normally suppose there is no credit risk, the discount rate $r$ for a convertible bond reflects the credit of the corresponding firm. Credit risk is closely related to the stock price. Because of this, when the stock price goes up, $r$ goes down because it is easier for the firm to raise capital. In contrast, when the stock price goes down, $r$ goes up. After careful analysis, you discover that if the stock goes from $S_0$ to $S_1$, the discount rate goes from $r_0$ to \n",
    "$$\n",
    "r_1 \\approx \\left(\\frac{S_0}{S_1}\\right)^{0.15} r_0.\n",
    "$$\n",
    "Write a Python function that returns $r_1$ given $S_0$, $S_1$ and $r_0$."
   ]
  },
  {
   "cell_type": "code",
   "execution_count": 40,
   "metadata": {},
   "outputs": [],
   "source": [
    "# Write function to get new r\n",
    "get_r = lambda r0, S0, S1: (S0/S1)**0.15 * r0"
   ]
  },
  {
   "cell_type": "markdown",
   "metadata": {},
   "source": [
    "(d) Compute the numerical partial derivative of your function in (c) with respect to $S_1$. Suppose $S_0 = S_1 = 65$ and $r_0 = 8\\%$."
   ]
  },
  {
   "cell_type": "code",
   "execution_count": 41,
   "metadata": {},
   "outputs": [
    {
     "name": "stdout",
     "output_type": "stream",
     "text": [
      "The partial derivatives is -0.00018.\n"
     ]
    }
   ],
   "source": [
    "# Get numerical partial derivative of r with respect to S\n",
    "r_S = (get_r(r, S, S + h) - get_r(r, S, S - h))/(2 * h)\n",
    "\n",
    "print(f'The partial derivatives is {r_S:.5f}.')"
   ]
  },
  {
   "cell_type": "markdown",
   "metadata": {},
   "source": [
    "(e) In part (b), you computed the partial derivative of the convertible bond with respect to $S$. However, as mentioned previously, when the equity changes we also expect the discount rate to change. Use your results from (b) and (d) to find the total derivative of the convertible bond price with respect to the value of the underlying equity. In this case, the total derivative is\n",
    "$$\n",
    "\\frac{d P}{d S} = \\frac{\\partial P}{\\partial S} + \\frac{\\partial P}{\\partial r}\\frac{\\partial r}{\\partial S}.\n",
    "$$\n",
    "Note: we are ignoring the effect of a change in $\\sigma$ due to a change in the stock price."
   ]
  },
  {
   "cell_type": "code",
   "execution_count": 35,
   "metadata": {},
   "outputs": [
    {
     "name": "stdout",
     "output_type": "stream",
     "text": [
      "The total derivatives is 0.688.\n"
     ]
    }
   ],
   "source": [
    "# Get total derivative\n",
    "total = P_S + P_r * r_S\n",
    "\n",
    "print(f'The total derivatives is {total:.3f}.')"
   ]
  }
 ],
 "metadata": {
  "kernelspec": {
   "display_name": "Python 3",
   "language": "python",
   "name": "python3"
  },
  "language_info": {
   "codemirror_mode": {
    "name": "ipython",
    "version": 3
   },
   "file_extension": ".py",
   "mimetype": "text/x-python",
   "name": "python",
   "nbconvert_exporter": "python",
   "pygments_lexer": "ipython3",
   "version": "3.7.7"
  }
 },
 "nbformat": 4,
 "nbformat_minor": 4
}
